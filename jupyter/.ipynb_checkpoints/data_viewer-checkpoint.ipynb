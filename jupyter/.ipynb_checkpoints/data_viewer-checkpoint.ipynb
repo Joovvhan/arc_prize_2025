{
 "cells": [
  {
   "cell_type": "code",
   "execution_count": 5,
   "id": "8fa5f511",
   "metadata": {},
   "outputs": [],
   "source": [
    "import os\n",
    "import json\n",
    "from glob import glob\n",
    "\n",
    "import matplotlib"
   ]
  },
  {
   "cell_type": "code",
   "execution_count": 6,
   "id": "b2384ddf",
   "metadata": {},
   "outputs": [],
   "source": [
    "data_path = '../arc-prize-2025'"
   ]
  },
  {
   "cell_type": "code",
   "execution_count": 7,
   "id": "b0ad4748",
   "metadata": {},
   "outputs": [],
   "source": [
    "json_files = glob(os.path.join(data_path, '*.json'))"
   ]
  },
  {
   "cell_type": "code",
   "execution_count": 8,
   "id": "d60bab93",
   "metadata": {},
   "outputs": [
    {
     "data": {
      "text/plain": [
       "['../arc-prize-2025/arc-agi_evaluation_solutions.json',\n",
       " '../arc-prize-2025/arc-agi_test_challenges.json',\n",
       " '../arc-prize-2025/arc-agi_training_solutions.json',\n",
       " '../arc-prize-2025/sample_submission.json',\n",
       " '../arc-prize-2025/arc-agi_training_challenges.json',\n",
       " '../arc-prize-2025/arc-agi_evaluation_challenges.json']"
      ]
     },
     "execution_count": 8,
     "metadata": {},
     "output_type": "execute_result"
    }
   ],
   "source": [
    "json_files"
   ]
  },
  {
   "cell_type": "code",
   "execution_count": 27,
   "id": "b8c40634",
   "metadata": {},
   "outputs": [],
   "source": [
    "with open(\"../arc-prize-2025/arc-agi_training_challenges.json\", 'r') as f:\n",
    "    training_challenges = json.load(f)\n",
    "    \n",
    "with open(\"../arc-prize-2025/arc-agi_training_solutions.json\", 'r') as f:\n",
    "    training_solutions = json.load(f)\n",
    "    \n",
    "with open(\"../arc-prize-2025/arc-agi_evaluation_challenges.json\", 'r') as f:\n",
    "    evaluation_challenges = json.load(f)"
   ]
  },
  {
   "cell_type": "code",
   "execution_count": 28,
   "id": "43580335",
   "metadata": {},
   "outputs": [
    {
     "name": "stdout",
     "output_type": "stream",
     "text": [
      "1000\n",
      "1000\n",
      "120\n"
     ]
    }
   ],
   "source": [
    "print(len(training_challenges))\n",
    "print(len(training_solutions))\n",
    "\n",
    "print(len(evaluation_challenges))"
   ]
  },
  {
   "cell_type": "code",
   "execution_count": 31,
   "id": "a3669ed1",
   "metadata": {},
   "outputs": [
    {
     "name": "stdout",
     "output_type": "stream",
     "text": [
      "1000 1000\n",
      "set()\n"
     ]
    }
   ],
   "source": [
    "training_challenges_keys = training_challenges.keys()\n",
    "training_solutions_keys = training_solutions.keys()\n",
    "\n",
    "print(len(training_challenges_keys), len(training_solutions_keys))\n",
    "print(set(training_challenges_keys) - set(training_solutions_keys))"
   ]
  },
  {
   "cell_type": "code",
   "execution_count": null,
   "id": "b86f68f1",
   "metadata": {},
   "outputs": [],
   "source": []
  }
 ],
 "metadata": {
  "kernelspec": {
   "display_name": "Python 3",
   "language": "python",
   "name": "python3"
  },
  "language_info": {
   "codemirror_mode": {
    "name": "ipython",
    "version": 3
   },
   "file_extension": ".py",
   "mimetype": "text/x-python",
   "name": "python",
   "nbconvert_exporter": "python",
   "pygments_lexer": "ipython3",
   "version": "3.9.1"
  }
 },
 "nbformat": 4,
 "nbformat_minor": 5
}
