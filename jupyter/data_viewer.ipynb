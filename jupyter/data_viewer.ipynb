{
 "cells": [
  {
   "cell_type": "code",
   "execution_count": 1,
   "id": "8fa5f511",
   "metadata": {},
   "outputs": [],
   "source": [
    "import os\n",
    "import json\n",
    "from glob import glob\n",
    "\n",
    "import numpy as np\n",
    "import matplotlib"
   ]
  },
  {
   "cell_type": "code",
   "execution_count": 2,
   "id": "b2384ddf",
   "metadata": {},
   "outputs": [],
   "source": [
    "data_path = '../arc-prize-2025'"
   ]
  },
  {
   "cell_type": "code",
   "execution_count": 3,
   "id": "b0ad4748",
   "metadata": {},
   "outputs": [],
   "source": [
    "json_files = glob(os.path.join(data_path, '*.json'))"
   ]
  },
  {
   "cell_type": "code",
   "execution_count": 4,
   "id": "d60bab93",
   "metadata": {},
   "outputs": [
    {
     "data": {
      "text/plain": [
       "['../arc-prize-2025\\\\arc-agi_evaluation_challenges.json',\n",
       " '../arc-prize-2025\\\\arc-agi_evaluation_solutions.json',\n",
       " '../arc-prize-2025\\\\arc-agi_test_challenges.json',\n",
       " '../arc-prize-2025\\\\arc-agi_training_challenges.json',\n",
       " '../arc-prize-2025\\\\arc-agi_training_solutions.json',\n",
       " '../arc-prize-2025\\\\sample_submission.json']"
      ]
     },
     "execution_count": 4,
     "metadata": {},
     "output_type": "execute_result"
    }
   ],
   "source": [
    "json_files"
   ]
  },
  {
   "cell_type": "code",
   "execution_count": 5,
   "id": "b8c40634",
   "metadata": {},
   "outputs": [],
   "source": [
    "with open(\"../arc-prize-2025/arc-agi_training_challenges.json\", 'r') as f:\n",
    "    training_challenges = json.load(f)\n",
    "    \n",
    "with open(\"../arc-prize-2025/arc-agi_training_solutions.json\", 'r') as f:\n",
    "    training_solutions = json.load(f)\n",
    "    \n",
    "with open(\"../arc-prize-2025/arc-agi_evaluation_challenges.json\", 'r') as f:\n",
    "    evaluation_challenges = json.load(f)"
   ]
  },
  {
   "cell_type": "code",
   "execution_count": 6,
   "id": "43580335",
   "metadata": {},
   "outputs": [
    {
     "name": "stdout",
     "output_type": "stream",
     "text": [
      "1000\n",
      "1000\n",
      "120\n"
     ]
    }
   ],
   "source": [
    "print(len(training_challenges))\n",
    "print(len(training_solutions))\n",
    "\n",
    "print(len(evaluation_challenges))"
   ]
  },
  {
   "cell_type": "code",
   "execution_count": 7,
   "id": "a3669ed1",
   "metadata": {},
   "outputs": [
    {
     "name": "stdout",
     "output_type": "stream",
     "text": [
      "1000 1000\n",
      "set()\n"
     ]
    }
   ],
   "source": [
    "training_challenges_keys = training_challenges.keys()\n",
    "training_solutions_keys = training_solutions.keys()\n",
    "\n",
    "print(len(training_challenges_keys), len(training_solutions_keys))\n",
    "print(set(training_challenges_keys) - set(training_solutions_keys))"
   ]
  },
  {
   "cell_type": "code",
   "execution_count": 8,
   "id": "b94a7d11",
   "metadata": {},
   "outputs": [],
   "source": [
    "keys = training_challenges.keys()"
   ]
  },
  {
   "cell_type": "code",
   "execution_count": 9,
   "id": "b86f68f1",
   "metadata": {},
   "outputs": [],
   "source": [
    "# key = list(keys)[0]\n",
    "\n",
    "# training_challenges[key]"
   ]
  },
  {
   "cell_type": "code",
   "execution_count": 10,
   "id": "2c79a361",
   "metadata": {},
   "outputs": [],
   "source": [
    "# training_solutions[key]"
   ]
  },
  {
   "cell_type": "code",
   "execution_count": 11,
   "id": "ee27db87",
   "metadata": {},
   "outputs": [],
   "source": [
    "# training_challenges[key]['train']"
   ]
  },
  {
   "cell_type": "code",
   "execution_count": 12,
   "id": "88db0ace",
   "metadata": {},
   "outputs": [],
   "source": [
    "# training_challenges[key]['test']"
   ]
  },
  {
   "cell_type": "code",
   "execution_count": 13,
   "id": "3c114d08",
   "metadata": {},
   "outputs": [],
   "source": [
    "# training_solutions[key]"
   ]
  },
  {
   "cell_type": "code",
   "execution_count": 14,
   "id": "b52cc94d",
   "metadata": {},
   "outputs": [],
   "source": [
    "# for i, key in enumerate(keys):\n",
    "#     train = training_challenges[key]['train']\n",
    "#     test = training_challenges[key]['test']\n",
    "#     solution = training_solutions[key]\n",
    "    \n",
    "#     # print(len(train), len(test), len(solution), solution[0])\n",
    "#     print(len(train), len(test), len(solution))"
   ]
  },
  {
   "cell_type": "code",
   "execution_count": 15,
   "id": "e82ca342",
   "metadata": {},
   "outputs": [
    {
     "name": "stdout",
     "output_type": "stream",
     "text": [
      "Train 00:  (2, 2) > (6, 6)\n",
      "Train 01:  (2, 2) > (6, 6)\n",
      "Test    :  (2, 2) > (6, 6)\n",
      "Train 00:  (3, 3) > (9, 9)\n",
      "Train 01:  (3, 3) > (9, 9)\n",
      "Train 02:  (3, 3) > (9, 9)\n",
      "Train 03:  (3, 3) > (9, 9)\n",
      "Train 04:  (3, 3) > (9, 9)\n",
      "Test    :  (3, 3) > (9, 9)\n",
      "Train 00:  (14, 14) > (14, 14)\n",
      "Train 01:  (14, 14) > (14, 14)\n",
      "Train 02:  (14, 14) > (14, 14)\n",
      "Train 03:  (14, 14) > (14, 14)\n",
      "Train 04:  (14, 14) > (14, 14)\n",
      "Test    :  (14, 14) > (14, 14)\n",
      "Train 00:  (10, 10) > (10, 10)\n",
      "Train 01:  (10, 10) > (10, 10)\n",
      "Train 02:  (10, 10) > (10, 10)\n",
      "Train 03:  (20, 20) > (20, 20)\n",
      "Train 04:  (6, 6) > (6, 6)\n",
      "Test    :  (20, 20) > (20, 20)\n",
      "Train 00:  (15, 15) > (15, 15)\n",
      "Train 01:  (9, 9) > (9, 9)\n",
      "Train 02:  (13, 13) > (13, 13)\n",
      "Train 03:  (7, 7) > (7, 7)\n",
      "Test    :  (20, 20) > (20, 20)\n",
      "Train 00:  (6, 3) > (9, 3)\n",
      "Train 01:  (6, 3) > (9, 3)\n",
      "Train 02:  (6, 3) > (9, 3)\n",
      "Test    :  (6, 3) > (9, 3)\n"
     ]
    }
   ],
   "source": [
    "for i, key in enumerate(keys):\n",
    "    train = training_challenges[key]['train']\n",
    "    test = training_challenges[key]['test']\n",
    "    solutions = training_solutions[key]\n",
    "    \n",
    "    # print(len(train), len(test), len(solution), solution[0])\n",
    "    # print(len(train), len(test), len(solution))\n",
    "    \n",
    "    for i, d in enumerate(train):\n",
    "        _input, _output = d['input'], d['output']\n",
    "        print(f\"Train {i:02d}: \", np.array(_input).shape, '>', np.array(_output).shape)\n",
    "    \n",
    "    # print(train)\n",
    "\n",
    "    for d, solution in zip(test, solutions):\n",
    "        test_input = d['input']\n",
    "        print(\"Test    : \", np.array(test_input).shape, '>', np.array(solution).shape)\n",
    "    \n",
    "    if i == 2:\n",
    "        break"
   ]
  }
 ],
 "metadata": {
  "kernelspec": {
   "display_name": "Python 3 (ipykernel)",
   "language": "python",
   "name": "python3"
  },
  "language_info": {
   "codemirror_mode": {
    "name": "ipython",
    "version": 3
   },
   "file_extension": ".py",
   "mimetype": "text/x-python",
   "name": "python",
   "nbconvert_exporter": "python",
   "pygments_lexer": "ipython3",
   "version": "3.10.16"
  }
 },
 "nbformat": 4,
 "nbformat_minor": 5
}
